{
  "nbformat": 4,
  "nbformat_minor": 0,
  "metadata": {
    "colab": {
      "provenance": []
    },
    "kernelspec": {
      "name": "python3",
      "display_name": "Python 3"
    },
    "language_info": {
      "name": "python"
    }
  },
  "cells": [
    {
      "cell_type": "markdown",
      "source": [
        "## Análise do relatório dos motivos de saída dos funionários da empresa"
      ],
      "metadata": {
        "id": "5K_imC6ps9Zq"
      }
    },
    {
      "cell_type": "markdown",
      "source": [
        "- Recebemos um relatório com os dados do RH sobre os motivos que estão levando funcionários a se desligar da empresa,\n",
        "temos dados com os motivos apontados pelos funcionarios em duas ocasiões, quando eles preenchem sozinhos e quando eles respondem ao funcionário do RH e o fator que impactou cada motivo em ordem crescente do 1° ao 11°.\n",
        "Abaixo podemos ver os dados em um arquivo excel antes de realizarmos qualquer tratamento, e na segunda imagem o gráfico que o colaborador do Recursos Humanos elaborou"
      ],
      "metadata": {
        "id": "cQzB20TEtkNG"
      }
    },
    {
      "cell_type": "markdown",
      "source": [
        "![Tabela com os dados](https://github.com/RafaelMoreiraDev/analise_tableau_rh/blob/main/img/dados_rh.jpg.png?raw=true)"
      ],
      "metadata": {
        "id": "kHJtGe5kK7Fj"
      }
    },
    {
      "cell_type": "markdown",
      "source": [
        "- [Link para baixar os dados](https://docs.google.com/spreadsheets/d/16pyFQ9Bb1moX9I7kbj6Q3Vx9wkeOK7CB/edit#gid=437389207)\n",
        "- [Link da análise no Tableau](https://public.tableau.com/app/profile/rafael.antonio1559/viz/Planilhadervores/PainelTotal)"
      ],
      "metadata": {
        "id": "7UObS9vWPjS2"
      }
    },
    {
      "cell_type": "markdown",
      "source": [
        "![Grafico base do RH](https://github.com/RafaelMoreiraDev/analise_tableau_rh/blob/main/img/relatorio_rh.jpg?raw=true)"
      ],
      "metadata": {
        "id": "COvB4KSJ2YWb"
      }
    },
    {
      "cell_type": "markdown",
      "source": [
        "- Ao analisar o gráfico, é possível observar alguns dados importantes sobre os motivos que estão levando os funcionários a saírem da empresa e a ordem do fator  de impacto que cada motivo teve na saída do funcionário. Para mostrar essas informações, foi usado um gráfico de bolhas que trouxe os dados separados em dois gráficos. Em um dos gráficos, tras os dados em que o funcionário preenche sozinho uma ficha com os motivos que o levaram a se desligar da empresa e, no outro tem os dados em que ele responde às mesmas perguntas, mas com o auxílio de um funcionário do RH.\n",
        "No gráfico podemos verificar que temos motivos que foram preenchidos pucas vezes e que causam pouco impacto na saída do funcionário da empresa, também podemos notar que temos valores diferentes quando comparamos os mesmos motivos dos dois gráficos\n",
        "No entanto podemos ter uma certa dificuldade na vizualização e comparação dos dados principalmente pra comparar os valores dos dois graficos e ver a diferença das quantidades de respostas para cada motivo preenchidas. E a vizualização em gráfico de bolhas com muitos valores distintos dificulta a indentificação dos dados. Outro ponto de melhoria é trazer os dados na lingua portuguesa para facilitar a interpretação por mais pessoas e as cores estão com tonalidades semelhantes o que dificulta identificar cada motivo."
      ],
      "metadata": {
        "id": "rMyZy3vG50BX"
      }
    },
    {
      "cell_type": "markdown",
      "source": [
        "Ao receber os dados, observei a presença de valores em branco e colunas sem nome. Decidi realizar essa análise no Tableau, que nos auxilia na visualização e no tratamento dos dados. Primeiramente, fiz à conversão dos valores numéricos que estavam em string para o formato inteiro e renomeei as colunas, traduzindo-as para o português.\n",
        "\n",
        "\n",
        "\n",
        "\n"
      ],
      "metadata": {
        "id": "eNiHsbawTkFU"
      }
    },
    {
      "cell_type": "markdown",
      "source": [
        "![Tratamento dos dados](https://github.com/RafaelMoreiraDev/analise_tableau_rh/blob/main/img/tratamento%20dos%20dados.png?raw=true)"
      ],
      "metadata": {
        "id": "2WLit7Q1iAto"
      }
    },
    {
      "cell_type": "markdown",
      "source": [
        "## Abaixo trago mais gráficos para podermos analizar os dados sobre os motivos dos desligamentos"
      ],
      "metadata": {
        "id": "y35J70V1Bs1X"
      }
    },
    {
      "cell_type": "markdown",
      "source": [
        "Abaixo, apresento um gráfico de barras com os totais de pontos de dois tipos de relatórios. Dessa forma, podemos analisar a diferença nas quantidades e tirar conclusões para possíveis melhorias. É importante notar que quando o funcionário preencheu o formulário com a assistência do profissional de RH, a pontuação foi 61 pontos maior. Isso indica que algumas pessoas não estão preenchendo os formulários, o que pode prejudica a análise.\n",
        "Como ponto de melhoria é cobrar de todos os funcionários pra que quando ouver o desligamento todos preencherem os dois formulários."
      ],
      "metadata": {
        "id": "Je2lgFqeidy4"
      }
    },
    {
      "cell_type": "markdown",
      "source": [
        "![Gráfico de Barras com os totais](https://github.com/RafaelMoreiraDev/analise_tableau_rh/blob/main/img/grafico_barras_total.jpg?raw=true)"
      ],
      "metadata": {
        "id": "NX4cJI6ztbJn"
      }
    },
    {
      "cell_type": "markdown",
      "source": [],
      "metadata": {
        "id": "pF0vn4xmt1p-"
      }
    },
    {
      "cell_type": "markdown",
      "source": [
        " Neste próximo gráfico, trago os dados no formato de barras, combinando as informações de ambos os relatórios para facilitar a comparação das respostas obtidas e proporcionar uma maneira mais visual de analisar os valores. Podemos perceber de forma mais clara que os motivos de desligamento diferem nos dois formulários. Além disso, há filtros no gráfico que permitem comparar valores individualmente. À primeira vista, pode ser complicado comparar e determinar quais motivos foram mais afetados. No entanto, ao adicionar alguns filtros, essa informação se torna mais clara, como será demonstrado nos próximos gráficos. Um ponto fraco nesse método de visualização é a possível distorção dos dados, que pode ocorrer com valores muito discrepantes. Quando há uma grande disparidade nos intervalos dos dados, a leitura e interpretação correta podem ser dificultadas.\n"
      ],
      "metadata": {
        "id": "4XtWmivYxP58"
      }
    },
    {
      "cell_type": "markdown",
      "source": [
        "\n",
        "\n",
        "\n",
        "![Grafico de Barras](https://github.com/RafaelMoreiraDev/analise_tableau_rh/blob/main/img/analise_rh_barras.jpg?raw=true)"
      ],
      "metadata": {
        "id": "GaNHh0nAwjvL"
      }
    },
    {
      "cell_type": "markdown",
      "source": [
        "No gráfico abaixo, optei por mostrar apenas os motivos de saída, excluindo os dados que incluem a 'Ability to impact' (Habilidade de impactar), devido à incompletude dos dados, que abrangem apenas as posições de 1 a 11. Os motivos de saída estão filtrados pela tabela RH, apresentados em ordem decrescente e comparados com os mesmos filtros aplicados à tabela preenchida pelo funcionário. Observamos que a ordem dos motivos de saída varia quando o próprio funcionário preenche a tabela. No entanto, os dois motivos que mais se destacam são 'Progressão de Carreira' e 'Tipo de Trabalho'. Esses dois pontos comuns na pesquisa receberam a maior pontuação na análise."
      ],
      "metadata": {
        "id": "PBg_Rw2nBrY_"
      }
    },
    {
      "cell_type": "markdown",
      "source": [
        "- Motivos de saída filtrado pelo RH"
      ],
      "metadata": {
        "id": "9TWyDCmQ1lZq"
      }
    },
    {
      "cell_type": "markdown",
      "source": [
        "\n",
        "![Grafico de Barra com filtro RH](https://github.com/RafaelMoreiraDev/analise_tableau_rh/blob/main/img/grafico_barras_RH.jpg?raw=true)"
      ],
      "metadata": {
        "id": "huIqHWNV79ax"
      }
    },
    {
      "cell_type": "markdown",
      "source": [
        "- Motivo de saída filtrado por anônimo"
      ],
      "metadata": {
        "id": "KbV2RUyn1x-D"
      }
    },
    {
      "cell_type": "markdown",
      "source": [
        "\n",
        "![Grafico de Barras](https://github.com/RafaelMoreiraDev/analise_tableau_rh/blob/main/img/grafico_barras_rh.png?raw=true)"
      ],
      "metadata": {
        "id": "unWOrKBDAE88"
      }
    },
    {
      "cell_type": "markdown",
      "source": [
        "\n",
        "\n",
        "- Para ajudar na análise de outra forma, podemos analisar com o gráfico de linha, onde comparamos de forma mais fácil e vamos usar também uma linha média, onde podemos verificar quais as causas estão acima da média e precisam de mais atenção que outras. A desvantagem deste tipo de gráfico é que, para alguns dados com outliers, eles são sensíveis e vão distorcer a representação visual. Outra desvantagem é que eles são bons para dados com linha de tempo ou valores, mas para dados como o que estamos tratando de categoria, pode trazer uma ilusão de continuidade onde não exista.\n",
        "\n",
        "\n",
        "\n",
        "\n",
        "\n"
      ],
      "metadata": {
        "id": "XwA23y_JwTHU"
      }
    },
    {
      "cell_type": "markdown",
      "source": [
        "![Gráfico de linha](https://github.com/RafaelMoreiraDev/analise_tableau_rh/blob/main/img/grafico_de_linhas.jpg?raw=true)\n"
      ],
      "metadata": {
        "id": "IiqhM8Xq0yJM"
      }
    },
    {
      "cell_type": "markdown",
      "source": [
        "- Em uma próxima visualização, estaremos explorando os dados em um mapa de árvore. Neste gráfico, podemos destacar a visualização e observar certos padrões por tamanhos. Os dados estão classificados por tamanho, representando a capacidade de afetar a empresa, onde os maiores são os que mais têm capacidade de impactar. Isso nos permite facilmente identificar os motivos que mais impactam e os que menos.\n",
        "\n",
        "A grande desvantagem deste gráfico é a poluição visual e também quando temos muitos valores, fica difícil obter qualquer informação, pois fica poluído visualmente e com tamanhos ou cores difíceis de distinguir."
      ],
      "metadata": {
        "id": "f6XVxQAJ2oui"
      }
    },
    {
      "cell_type": "markdown",
      "source": [
        "![Gráfico de árvore](https://github.com/RafaelMoreiraDev/analise_tableau_rh/blob/main/img/grafico_mapa_de_arvore.jpg?raw=true)"
      ],
      "metadata": {
        "id": "m6DO0WaK7Z7k"
      }
    },
    {
      "cell_type": "markdown",
      "source": [
        "- Para uma análise da concentração ou valores isolados, vamos usar o gráfico de dispersão, onde vamos observar regiões e como os valores estão distribuídos de forma geral.\n",
        "Podemos ver que os valores estão concentrados na faixa entre 10 e 50 e poucos valores depois desta faixa o que pode nos levar a tratar os os motivos e procurar entender porque aquelas causas estão com valores tão altos. Podemos também ser outliers. Uma desvantagem deste gráfico é que quando temos mais de duas variáveis, fica comprometida a análise, sendo necessário criar mais de um gráfico, o que dificulta a comparação."
      ],
      "metadata": {
        "id": "LFtbXGDM5LFw"
      }
    },
    {
      "cell_type": "markdown",
      "source": [
        "![Gráfico de dispérsão](https://github.com/RafaelMoreiraDev/analise_tableau_rh/blob/main/img/grafico_de_dispersao.jpg?raw=true)"
      ],
      "metadata": {
        "id": "FbpUPcRO7GUd"
      }
    },
    {
      "cell_type": "markdown",
      "source": [
        "- Com base nos dados fornecidos, podemos concluir que os principais fatores que levam os funcionários a se desligarem da empresa são a progressão de carreira, o tipo de trabalho e a realocação. Portanto, sugerimos que a empresa invista nessas áreas para reduzir a rotatividade de pessoal e aumentar a satisfação dos colaboradores. Além disso, recomendamos que a empresa padronize a coleta de informações com data, mais detalhes sobre os dados de capacidade de afetar, que não ficaram claros no relatório, e o compromisso com o preenchimento dos formulários de desligamento por parte dos funcionários. Assim, poderemos realizar análises mais precisas e implementar melhorias contínuas nas condições de trabalho, nos salários e nas oportunidades de crescimento."
      ],
      "metadata": {
        "id": "QpIHtlZL9fcC"
      }
    },
    {
      "cell_type": "markdown",
      "source": [
        "- [Link para baixar os dados](https://docs.google.com/spreadsheets/d/16pyFQ9Bb1moX9I7kbj6Q3Vx9wkeOK7CB/edit#gid=437389207)\n",
        "- [Link da análise no Tableau](https://public.tableau.com/app/profile/rafael.antonio1559/viz/Planilhadervores/PainelTotal)"
      ],
      "metadata": {
        "id": "V6VX12o3QeD0"
      }
    }
  ]
}